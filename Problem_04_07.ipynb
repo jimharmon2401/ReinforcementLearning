{
 "cells": [
  {
   "cell_type": "code",
   "execution_count": 27,
   "metadata": {},
   "outputs": [
    {
     "data": {
      "text/plain": [
       "plp (generic function with 1 method)"
      ]
     },
     "execution_count": 27,
     "metadata": {},
     "output_type": "execute_result"
    }
   ],
   "source": [
    "function plp(k, l) # poisson log probability\n",
    "    k = convert(Int64, k)\n",
    "    logprob = k*log(l) - l - log(factorial(k))\n",
    "    return logprob\n",
    "end"
   ]
  },
  {
   "cell_type": "code",
   "execution_count": 28,
   "metadata": {},
   "outputs": [],
   "source": [
    "## compute poisson probabilities in array?  \n",
    "## one row each for 2, 3, and 4 (maybe have a 4*21 array, but don't bother with first line)\n",
    "\n",
    "PoisProbs = zeros(Float64, 4, 21)\n",
    "\n",
    "for row in 2:4\n",
    "    PoisProbs[row,1] = 0.0\n",
    "end\n",
    "\n",
    "for row in 2:4\n",
    "    sumprob = 0\n",
    "    for col in 2:21\n",
    "        prior = col - 2\n",
    "        sumprob += exp(plp(prior,row))\n",
    "        PoisProbs[row, col] = log(1 - sumprob)\n",
    "    end\n",
    "end"
   ]
  },
  {
   "cell_type": "code",
   "execution_count": 29,
   "metadata": {},
   "outputs": [
    {
     "data": {
      "text/plain": [
       "compprob (generic function with 1 method)"
      ]
     },
     "execution_count": 29,
     "metadata": {},
     "output_type": "execute_result"
    }
   ],
   "source": [
    "function compprob(bd, num, par)\n",
    "    if num == bd\n",
    "        par = convert(Int64, par)\n",
    "        num = convert(Int64, num)\n",
    "        return PoisProbs[par,num+1]\n",
    "    else\n",
    "        return plp(num, par)\n",
    "    end\n",
    "end"
   ]
  },
  {
   "cell_type": "code",
   "execution_count": 30,
   "metadata": {},
   "outputs": [
    {
     "data": {
      "text/plain": [
       "p (generic function with 1 method)"
      ]
     },
     "execution_count": 30,
     "metadata": {},
     "output_type": "execute_result"
    }
   ],
   "source": [
    "function p(end1, end2, rew, beg1, beg2, action)\n",
    "    bs1a = beg1 - action\n",
    "    bs2a = beg2 + action\n",
    "    \n",
    "    if (bs1a > 20)\n",
    "        bs1a = 20\n",
    "    end\n",
    "    if (bs2a > 20)\n",
    "        bs2a = 20\n",
    "    end\n",
    "    \n",
    "    net1 = end1 - bs1a\n",
    "    net2 = end2 - bs2a\n",
    "    \n",
    "    totreq = convert(Int64, rew/10) ## rew expected to be multiple of 10\n",
    "    prob = 0\n",
    "    for index = 0:totreq\n",
    "        req1 = index\n",
    "        req2 = totreq - index\n",
    "        if (bs1a < req1) || (bs2a < req2)\n",
    "            continue\n",
    "        end\n",
    "        ret1 = net1 + req1\n",
    "        ret2 = net2 + req2\n",
    "        if (ret1 < 0) || (ret2 < 0) || (req1 < 0) || (req2 < 0)\n",
    "            continue\n",
    "        end\n",
    "        logprob = compprob(20 - bs1a + req1, ret1, 3) + compprob(20 - bs2a + req2, ret2, 2) + \n",
    "                  compprob(bs1a, req1, 3) + compprob(bs2a, req2, 4)\n",
    "        prob += exp(logprob)\n",
    "    end\n",
    "    return prob\n",
    "end"
   ]
  },
  {
   "cell_type": "code",
   "execution_count": 31,
   "metadata": {},
   "outputs": [
    {
     "data": {
      "text/plain": [
       "2"
      ]
     },
     "execution_count": 31,
     "metadata": {},
     "output_type": "execute_result"
    }
   ],
   "source": [
    "## start out with some constants\n",
    "States = [0, 1, 2, 3, 4, 5, 6, 7, 8, 9, 10, 11, 12, 13, 14, 15, 16, 17, 18, 19, 20]\n",
    "Actions = [-5, -4, -3, -2, -1, 0, 1, 2, 3, 4, 5]\n",
    "gamma = 0.9\n",
    "lreq1 = 3\n",
    "lret1 = 3\n",
    "lreq2 = 4\n",
    "lret2 = 2"
   ]
  },
  {
   "cell_type": "code",
   "execution_count": 32,
   "metadata": {},
   "outputs": [
    {
     "data": {
      "text/plain": [
       "4×21 Array{Float64,2}:\n",
       " 0.0   0.0         0.0         0.0       …    0.0       0.0       0.0\n",
       " 0.0  -0.145413   -0.520886   -1.1291       -25.8082  -28.0652  -30.372\n",
       " 0.0  -0.0510692  -0.222079   -0.550242     -19.4503  -21.3052  -23.2104\n",
       " 0.0  -0.0184854  -0.0960465  -0.271944     -15.2091  -16.78    -18.4008"
      ]
     },
     "execution_count": 32,
     "metadata": {},
     "output_type": "execute_result"
    }
   ],
   "source": [
    "PoisProbs ## REALLY logPoisProbs"
   ]
  },
  {
   "cell_type": "code",
   "execution_count": 33,
   "metadata": {},
   "outputs": [
    {
     "data": {
      "text/plain": [
       "21×21 Array{Float64,2}:\n",
       " 0.0  0.0  0.0  0.0  0.0  0.0  0.0  0.0  …  0.0  0.0  0.0  0.0  0.0  0.0  0.0\n",
       " 0.0  0.0  0.0  0.0  0.0  0.0  0.0  0.0     0.0  0.0  0.0  0.0  0.0  0.0  0.0\n",
       " 0.0  0.0  0.0  0.0  0.0  0.0  0.0  0.0     0.0  0.0  0.0  0.0  0.0  0.0  0.0\n",
       " 0.0  0.0  0.0  0.0  0.0  0.0  0.0  0.0     0.0  0.0  0.0  0.0  0.0  0.0  0.0\n",
       " 0.0  0.0  0.0  0.0  0.0  0.0  0.0  0.0     0.0  0.0  0.0  0.0  0.0  0.0  0.0\n",
       " 0.0  0.0  0.0  0.0  0.0  0.0  0.0  0.0  …  0.0  0.0  0.0  0.0  0.0  0.0  0.0\n",
       " 0.0  0.0  0.0  0.0  0.0  0.0  0.0  0.0     0.0  0.0  0.0  0.0  0.0  0.0  0.0\n",
       " 0.0  0.0  0.0  0.0  0.0  0.0  0.0  0.0     0.0  0.0  0.0  0.0  0.0  0.0  0.0\n",
       " 0.0  0.0  0.0  0.0  0.0  0.0  0.0  0.0     0.0  0.0  0.0  0.0  0.0  0.0  0.0\n",
       " 0.0  0.0  0.0  0.0  0.0  0.0  0.0  0.0     0.0  0.0  0.0  0.0  0.0  0.0  0.0\n",
       " 0.0  0.0  0.0  0.0  0.0  0.0  0.0  0.0  …  0.0  0.0  0.0  0.0  0.0  0.0  0.0\n",
       " 0.0  0.0  0.0  0.0  0.0  0.0  0.0  0.0     0.0  0.0  0.0  0.0  0.0  0.0  0.0\n",
       " 0.0  0.0  0.0  0.0  0.0  0.0  0.0  0.0     0.0  0.0  0.0  0.0  0.0  0.0  0.0\n",
       " 0.0  0.0  0.0  0.0  0.0  0.0  0.0  0.0     0.0  0.0  0.0  0.0  0.0  0.0  0.0\n",
       " 0.0  0.0  0.0  0.0  0.0  0.0  0.0  0.0     0.0  0.0  0.0  0.0  0.0  0.0  0.0\n",
       " 0.0  0.0  0.0  0.0  0.0  0.0  0.0  0.0  …  0.0  0.0  0.0  0.0  0.0  0.0  0.0\n",
       " 0.0  0.0  0.0  0.0  0.0  0.0  0.0  0.0     0.0  0.0  0.0  0.0  0.0  0.0  0.0\n",
       " 0.0  0.0  0.0  0.0  0.0  0.0  0.0  0.0     0.0  0.0  0.0  0.0  0.0  0.0  0.0\n",
       " 0.0  0.0  0.0  0.0  0.0  0.0  0.0  0.0     0.0  0.0  0.0  0.0  0.0  0.0  0.0\n",
       " 0.0  0.0  0.0  0.0  0.0  0.0  0.0  0.0     0.0  0.0  0.0  0.0  0.0  0.0  0.0\n",
       " 0.0  0.0  0.0  0.0  0.0  0.0  0.0  0.0  …  0.0  0.0  0.0  0.0  0.0  0.0  0.0"
      ]
     },
     "execution_count": 33,
     "metadata": {},
     "output_type": "execute_result"
    }
   ],
   "source": [
    "Policy = zeros(Int8, 21, 21)\n",
    "Values = zeros(Float64, 21, 21)"
   ]
  },
  {
   "cell_type": "markdown",
   "metadata": {},
   "source": [
    "Now, code up Policy Evaluation and Policy Iteration."
   ]
  },
  {
   "cell_type": "code",
   "execution_count": 42,
   "metadata": {},
   "outputs": [],
   "source": [
    "## Policy Evaluation\n",
    "delta = 10\n",
    "theta = 0.01\n",
    "while delta > theta\n",
    "    for begstate1 = States\n",
    "        for begstate2 = States\n",
    "            v = Values[begstate1+1, begstate2+1]\n",
    "            Values[begstate1+1, begstate2+1] = 0\n",
    "            maxrew = (begstate1 + begstate2) * 10\n",
    "            for estate1 = States\n",
    "                for estate2 = States\n",
    "                    for reward = 0:10:maxrew\n",
    "                        Values[begstate1+1, begstate2+1] += p(estate1, estate2, \n",
    "                            reward, begstate1, begstate2, Policy[begstate1+1, begstate2+1]) * \n",
    "                            (reward - 2*abs(Policy[begstate1+1, begstate2+1]) + \n",
    "                            gamma * Values[estate1+1, estate2+1] )\n",
    "                    end\n",
    "                end\n",
    "            end\n",
    "            delta = max(theta, abs(v - Values[begstate1+1, begstate2+1]))\n",
    "        end\n",
    "    end\n",
    "end"
   ]
  },
  {
   "cell_type": "code",
   "execution_count": 43,
   "metadata": {},
   "outputs": [],
   "source": [
    "## Policy Improvement\n",
    "\n",
    "policy_stable = true\n",
    "\n",
    "for begstate1 = States\n",
    "    for begstate2 = States\n",
    "        old_action = Policy[begstate1+1, begstate2+1]\n",
    "        actionvals = zeros(Float64, size(Actions))\n",
    "        for index = 1:size(Actions)[1]\n",
    "            action = Actions[index]\n",
    "            if (begstate1 - action < 0) || (begstate2 + action < 0)\n",
    "                continue ## don't allow to move more than you have\n",
    "            end\n",
    "            maxrew = (begstate1 + begstate2) * 10\n",
    "            for estate1 = States\n",
    "                for estate2 = States\n",
    "                    for reward = 0:10:maxrew\n",
    "                        actionvals[index] += p(estate1, estate2, \n",
    "                            reward, begstate1, begstate2, action) * \n",
    "                            (reward - 2*abs(action) + \n",
    "                            gamma * Values[estate1+1, estate2+1] )\n",
    "                    end\n",
    "                end\n",
    "            end\n",
    "        end\n",
    "        Policy[begstate1+1, begstate2+1] = Actions[argmax(actionvals)]\n",
    "        if old_action != Policy[begstate1+1, begstate2+1]\n",
    "            policy_stable = false\n",
    "        end\n",
    "    end\n",
    "end"
   ]
  },
  {
   "cell_type": "code",
   "execution_count": 44,
   "metadata": {},
   "outputs": [
    {
     "name": "stdout",
     "output_type": "stream",
     "text": [
      "Int8[5, 4, 4, 3, 3, 2, 2, 2, 2, 2, 2, 2, 2, 2, 1, 1, 1, 0, 0, 0, 0]\n",
      "Int8[5, 4, 3, 3, 2, 2, 1, 1, 1, 1, 1, 1, 1, 1, 1, 0, 0, 0, 0, 0, 0]\n",
      "Int8[5, 4, 3, 2, 2, 1, 1, 0, 0, 0, 0, 0, 0, 0, 0, 0, 0, 0, 0, 0, 0]\n",
      "Int8[5, 4, 3, 2, 1, 1, 0, 0, 0, 0, 0, 0, 0, 0, 0, 0, 0, 0, 0, 0, 0]\n",
      "Int8[4, 4, 3, 2, 1, 0, 0, 0, 0, 0, 0, 0, 0, 0, 0, 0, 0, 0, 0, 0, 0]\n",
      "Int8[4, 3, 3, 2, 1, 0, 0, 0, 0, 0, 0, 0, 0, 0, 0, 0, 0, 0, 0, 0, 0]\n",
      "Int8[4, 3, 2, 2, 1, 0, 0, 0, 0, 0, 0, 0, 0, 0, 0, 0, 0, 0, 0, 0, 0]\n",
      "Int8[4, 3, 2, 1, 1, 0, 0, 0, 0, 0, 0, 0, 0, 0, 0, 0, 0, 0, 0, 0, 0]\n",
      "Int8[3, 3, 2, 1, 0, 0, 0, 0, 0, 0, 0, 0, 0, 0, 0, 0, 0, 0, 0, 0, 0]\n",
      "Int8[3, 2, 2, 1, 0, 0, 0, 0, 0, 0, 0, 0, 0, 0, 0, 0, 0, 0, 0, 0, 0]\n",
      "Int8[3, 2, 1, 1, 0, 0, 0, 0, 0, 0, 0, 0, 0, 0, 0, 0, 0, 0, 0, 0, 0]\n",
      "Int8[2, 2, 1, 0, 0, 0, 0, 0, 0, 0, 0, 0, 0, 0, 0, 0, 0, 0, 0, 0, 0]\n",
      "Int8[1, 1, 1, 0, 0, 0, 0, 0, 0, 0, 0, 0, 0, 0, 0, 0, 0, 0, 0, 0, 0]\n",
      "Int8[1, 0, 0, 0, 0, 0, 0, 0, 0, 0, 0, 0, 0, 0, 0, 0, 0, 0, 0, 0, 0]\n",
      "Int8[0, 0, 0, 0, 0, 0, 0, 0, 0, 0, 0, 0, 0, 0, 0, 0, 0, 0, 0, 0, 0]\n",
      "Int8[0, 0, 0, 0, 0, 0, 0, 0, 0, 0, 0, 0, 0, 0, 0, 0, 0, 0, 0, 0, -1]\n",
      "Int8[0, 0, 0, 0, 0, 0, 0, 0, 0, 0, 0, 0, 0, 0, 0, 0, 0, 0, 0, -1, -1]\n",
      "Int8[0, 0, 0, 0, 0, 0, 0, 0, 0, 0, 0, 0, 0, 0, 0, 0, 0, -1, -1, -1, -2]\n",
      "Int8[0, 0, 0, 0, 0, 0, 0, 0, 0, 0, 0, 0, 0, 0, -1, -1, -1, -1, -2, -2, -2]\n",
      "Int8[0, 0, 0, 0, 0, 0, 0, 0, 0, 0, 0, 0, -1, -1, -1, -2, -2, -2, -2, -3, -3]\n",
      "Int8[0, 0, 0, 0, 0, 0, 0, 0, 0, 0, 0, -1, -1, -2, -2, -2, -3, -3, -3, -3, -4]\n"
     ]
    }
   ],
   "source": [
    "for num = 1:21\n",
    "    println(Policy[22-num,:])\n",
    "end"
   ]
  },
  {
   "cell_type": "code",
   "execution_count": null,
   "metadata": {},
   "outputs": [],
   "source": []
  }
 ],
 "metadata": {
  "kernelspec": {
   "display_name": "Julia 1.4.1",
   "language": "julia",
   "name": "julia-1.4"
  },
  "language_info": {
   "file_extension": ".jl",
   "mimetype": "application/julia",
   "name": "julia",
   "version": "1.4.1"
  }
 },
 "nbformat": 4,
 "nbformat_minor": 2
}
