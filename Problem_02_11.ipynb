{
 "cells": [
  {
   "cell_type": "code",
   "execution_count": 1,
   "metadata": {},
   "outputs": [
    {
     "data": {
      "text/plain": [
       "8-element Array{Float64,1}:\n",
       " 0.03125\n",
       " 0.0625\n",
       " 0.125\n",
       " 0.25\n",
       " 0.5\n",
       " 1.0\n",
       " 2.0\n",
       " 4.0"
      ]
     },
     "execution_count": 1,
     "metadata": {},
     "output_type": "execute_result"
    }
   ],
   "source": [
    "using Statistics\n",
    "using Distributions\n",
    "\n",
    "epsilons = [0.0078125, 0.015625, 0.03125, 0.0625, 0.125, 0.25]\n",
    "cs = [0.0625, 0.125, 0.25, 0.5, 1, 2, 4]\n",
    "q0 = [0.25, 0.5, 1, 2, 4]\n",
    "alphas = [0.03125, 0.0625, 0.125, 0.25, 0.5, 1, 2, 4]"
   ]
  },
  {
   "cell_type": "code",
   "execution_count": 2,
   "metadata": {},
   "outputs": [
    {
     "data": {
      "text/plain": [
       "10"
      ]
     },
     "execution_count": 2,
     "metadata": {},
     "output_type": "execute_result"
    }
   ],
   "source": [
    "numsims = 2000 ## necessary???\n",
    "simlength = 200000\n",
    "qlen = 10\n",
    "## eps = 0.1"
   ]
  },
  {
   "cell_type": "markdown",
   "metadata": {},
   "source": [
    "# Epsilon greedy"
   ]
  },
  {
   "cell_type": "code",
   "execution_count": 3,
   "metadata": {},
   "outputs": [
    {
     "data": {
      "text/plain": [
       "epsilongreedy (generic function with 1 method)"
      ]
     },
     "execution_count": 3,
     "metadata": {},
     "output_type": "execute_result"
    }
   ],
   "source": [
    "function epsilongreedy(q_s, simsteps, eps)\n",
    "    ## initialize the Q and n variables\n",
    "    Q = zeros(qlen)\n",
    "    n = zeros(qlen)\n",
    "    Rewards = zeros(simlength)\n",
    "\n",
    "    for i in 1:simsteps\n",
    "        ## epsilon greedy portion\n",
    "        probrand = rand(1)[1]\n",
    "        if probrand < eps\n",
    "            A = rand(1:10)\n",
    "        else\n",
    "            _, A = findmax(Q)\n",
    "        end\n",
    "        ## calculate reward\n",
    "        R = randn(1)[1] + q_s[A]\n",
    "        ## update n and Q\n",
    "        n[A] = n[A] + 1\n",
    "        Q[A] = Q[A] + (1/n[A]) * (R - Q[A])\n",
    "        Rewards[i] = R\n",
    "        ## add noise, but only put in after we get normal one to run\n",
    "        q_s = q_s + randn(10) * 0.01\n",
    "    end\n",
    "    return Rewards[trunc(Int, length(Rewards)/2 + 1):length(Rewards)]\n",
    "end"
   ]
  },
  {
   "cell_type": "code",
   "execution_count": 4,
   "metadata": {},
   "outputs": [
    {
     "data": {
      "text/plain": [
       "6-element Array{Float64,1}:\n",
       " 4.580907496514873\n",
       " 4.4834352223576\n",
       " 4.479404372827818\n",
       " 4.411259142292989\n",
       " 4.131025008845298\n",
       " 3.6414797764542706"
      ]
     },
     "execution_count": 4,
     "metadata": {},
     "output_type": "execute_result"
    }
   ],
   "source": [
    "avgRewEps = zeros(length(epsilons))\n",
    "q_star = zeros(qlen)\n",
    "for j in 1:length(epsilons), k in 1:numsims\n",
    "    avgRewEps[j] = avgRewEps[j] + mean(epsilongreedy(q_star, simlength, epsilons[j]))\n",
    "end\n",
    "avgRewEps / numsims"
   ]
  },
  {
   "cell_type": "code",
   "execution_count": 5,
   "metadata": {},
   "outputs": [],
   "source": [
    "## 12.81 seconds, on my timing.  Multiply times 100 to get full run???"
   ]
  },
  {
   "cell_type": "markdown",
   "metadata": {},
   "source": [
    "# Upper Confidence Bound"
   ]
  },
  {
   "cell_type": "code",
   "execution_count": 6,
   "metadata": {},
   "outputs": [
    {
     "data": {
      "text/plain": [
       "uppconfbd (generic function with 1 method)"
      ]
     },
     "execution_count": 6,
     "metadata": {},
     "output_type": "execute_result"
    }
   ],
   "source": [
    "function uppconfbd(q_s, simsteps, c)\n",
    "    ## initialize the Q and n variables\n",
    "    Q = zeros(qlen)\n",
    "    n = zeros(qlen)\n",
    "    Rewards = zeros(simlength)\n",
    "    \n",
    "    for i in 1:qlen\n",
    "        ## first qlen steps are just running through all options\n",
    "        R = randn(1)[1] + q_s[i]\n",
    "        n[i] = n[i] + 1\n",
    "        Q[i] = Q[i] + (1/n[i]) * (R - Q[i])\n",
    "        Rewards[i] = R\n",
    "    end\n",
    "    ## now for the rest of the steps\n",
    "    for i in (qlen+1):simsteps\n",
    "        Qplus = Q + c * sqrt(log(i)) * (1 / sqrt.(log.(n)))'\n",
    "        _, A = findmax(Qplus)\n",
    "        ## calculate reward\n",
    "        R = randn(1)[1] + q_s[A]\n",
    "        ## update n and Q\n",
    "        n[A] = n[A] + 1\n",
    "        Q[A] = Q[A] + (1/n[A]) * (R - Q[A])\n",
    "        Rewards[i] = R\n",
    "        ## add noise, but only put in after we get normal one to run\n",
    "        q_s = q_s + randn(10) * 0.01\n",
    "    end\n",
    "    return Rewards[trunc(Int, length(Rewards)/2 + 1):length(Rewards)]\n",
    "end"
   ]
  },
  {
   "cell_type": "code",
   "execution_count": 7,
   "metadata": {},
   "outputs": [
    {
     "data": {
      "text/plain": [
       "7-element Array{Float64,1}:\n",
       " 2.5809831382024777\n",
       " 2.501275901898166\n",
       " 2.5657822151075247\n",
       " 2.5129103220800295\n",
       " 2.3295224477026015\n",
       " 1.973619806068027\n",
       " 0.8783037327602881"
      ]
     },
     "execution_count": 7,
     "metadata": {},
     "output_type": "execute_result"
    }
   ],
   "source": [
    "avgRewUCB = zeros(length(cs))\n",
    "q_star = zeros(qlen)\n",
    "for j in 1:length(cs), k in 1:numsims\n",
    "    avgRewUCB[j] = avgRewUCB[j] + mean(uppconfbd(q_star, simlength, cs[j]))\n",
    "end\n",
    "avgRewUCB / numsims"
   ]
  },
  {
   "cell_type": "code",
   "execution_count": 8,
   "metadata": {},
   "outputs": [],
   "source": [
    "## 42.62 seconds, multiply by 100?"
   ]
  },
  {
   "cell_type": "markdown",
   "metadata": {},
   "source": [
    "# Optimistic Initial Value"
   ]
  },
  {
   "cell_type": "code",
   "execution_count": 9,
   "metadata": {},
   "outputs": [
    {
     "data": {
      "text/plain": [
       "optinitval (generic function with 1 method)"
      ]
     },
     "execution_count": 9,
     "metadata": {},
     "output_type": "execute_result"
    }
   ],
   "source": [
    "function optinitval(q_s, simsteps, Q0)\n",
    "    ## initialize the Q and n variables\n",
    "    Q = ones(qlen) * Q0\n",
    "    Rewards = zeros(simlength)\n",
    "\n",
    "    for i in 1:simsteps\n",
    "        ## epsilon greedy portion\n",
    "        _, A = findmax(Q)\n",
    "        R = randn(1)[1] + q_s[A]\n",
    "        ## update Q\n",
    "        Q[A] = Q[A] + 0.1 * (R - Q[A])\n",
    "        Rewards[i] = R\n",
    "        ## add noise, but only put in after we get normal one to run\n",
    "        q_s = q_s + randn(10) * 0.01\n",
    "    end\n",
    "    return Rewards[trunc(Int, length(Rewards)/2 + 1):length(Rewards)]\n",
    "end"
   ]
  },
  {
   "cell_type": "code",
   "execution_count": 10,
   "metadata": {},
   "outputs": [
    {
     "data": {
      "text/plain": [
       "5-element Array{Float64,1}:\n",
       " 4.381110341447758\n",
       " 4.439002961200888\n",
       " 4.427588459387116\n",
       " 4.374878246927533\n",
       " 4.304071235455939"
      ]
     },
     "execution_count": 10,
     "metadata": {},
     "output_type": "execute_result"
    }
   ],
   "source": [
    "avgRewOIV = zeros(length(q0))\n",
    "q_star = zeros(qlen)\n",
    "for j in 1:length(q0), k in 1:numsims\n",
    "    avgRewOIV[j] = avgRewOIV[j] + mean(optinitval(q_star, simlength, q0[j]))\n",
    "end\n",
    "avgRewOIV / numsims"
   ]
  },
  {
   "cell_type": "code",
   "execution_count": 11,
   "metadata": {},
   "outputs": [],
   "source": [
    "## 9.12 seconds"
   ]
  },
  {
   "cell_type": "markdown",
   "metadata": {},
   "source": [
    "# Gradient Bandit Algorithm"
   ]
  },
  {
   "cell_type": "code",
   "execution_count": 12,
   "metadata": {},
   "outputs": [
    {
     "data": {
      "text/plain": [
       "gradband (generic function with 1 method)"
      ]
     },
     "execution_count": 12,
     "metadata": {},
     "output_type": "execute_result"
    }
   ],
   "source": [
    "function gradband(q_s, simsteps, alpha)\n",
    "    ## initialize the H, Rbar, probs variables\n",
    "    H = zeros(qlen)\n",
    "    probs = ones(qlen) * (1 / qlen)\n",
    "    Rbar = 0\n",
    "    Rewards = zeros(simlength)\n",
    "\n",
    "    for i in 1:simsteps\n",
    "        ## epsilon greedy portion\n",
    "        test = Multinomial(1, probs)\n",
    "        A = findmax(rand(test, 1))[2][1] ## Cartesian index workaround\n",
    "        R = randn(1)[1] + q_s[A]\n",
    "        Rbar = Rbar + (1 / i) * (R - Rbar)\n",
    "        ## update H\n",
    "        temp = H[A]\n",
    "        H = H - alpha * (R - Rbar) * probs\n",
    "        H[A] = temp + alpha * (R - Rbar) * (1 - probs[A])\n",
    "        Rewards[i] = R\n",
    "        ## updates probs\n",
    "        probs = exp.(H) / sum(exp.(H))\n",
    "        ## add noise, but only put in after we get normal one to run\n",
    "        q_s = q_s + randn(10) * 0.01\n",
    "    end\n",
    "    return Rewards[trunc(Int, length(Rewards)/2 + 1):length(Rewards)]\n",
    "end"
   ]
  },
  {
   "cell_type": "code",
   "execution_count": 13,
   "metadata": {},
   "outputs": [
    {
     "data": {
      "text/plain": [
       "8-element Array{Float64,1}:\n",
       " 3.771695631589715\n",
       " 3.6596456445785663\n",
       " 3.5376636249745554\n",
       " 3.392754616377856\n",
       " 2.962147441765465\n",
       " 2.5838196873396795\n",
       " 1.95240147285649\n",
       " 1.3989306596608762"
      ]
     },
     "execution_count": 13,
     "metadata": {},
     "output_type": "execute_result"
    }
   ],
   "source": [
    "avgRewGBA = zeros(length(alphas))\n",
    "q_star = zeros(qlen)\n",
    "for j in 1:length(alphas), k in 1:numsims\n",
    "    avgRewGBA[j] = avgRewGBA[j] + mean(gradband(q_star, simlength, alphas[j]))\n",
    "end\n",
    "avgRewGBA / numsims"
   ]
  },
  {
   "cell_type": "code",
   "execution_count": 14,
   "metadata": {},
   "outputs": [],
   "source": [
    "## 58.96 seconds"
   ]
  },
  {
   "cell_type": "code",
   "execution_count": 15,
   "metadata": {},
   "outputs": [
    {
     "data": {
      "text/plain": [
       "123.50999999999999"
      ]
     },
     "execution_count": 15,
     "metadata": {},
     "output_type": "execute_result"
    }
   ],
   "source": [
    "58.96 + 9.12 + 42.62 + 12.81"
   ]
  },
  {
   "cell_type": "code",
   "execution_count": 16,
   "metadata": {},
   "outputs": [
    {
     "data": {
      "text/plain": [
       "3.430833333333333"
      ]
     },
     "execution_count": 16,
     "metadata": {},
     "output_type": "execute_result"
    }
   ],
   "source": [
    "123.51 * 100 / 60^2"
   ]
  },
  {
   "cell_type": "code",
   "execution_count": null,
   "metadata": {},
   "outputs": [],
   "source": [
    "## sim results\n",
    "avgRewEpssim = [4.5809, 4.4834, 4.4794, 4.4112, 4.1310, 3.6414]\n",
    "avgRewUCBsim = [2.5809, 2.5012, 2.5657, 2.5129, 2.3295, 1.9736, 0.8783]\n",
    "avgRewOIVsim = [4.3811, 4.4390, 4.4275, 4.3748, 4.3040]\n",
    "avgRewGBAsim = [3.7716, 3.6596, 3.5376, 3.3927, 2.9621, 2.5838, 1.9524, 1.3989]"
   ]
  }
 ],
 "metadata": {
  "kernelspec": {
   "display_name": "Julia 1.4.1",
   "language": "julia",
   "name": "julia-1.4"
  },
  "language_info": {
   "file_extension": ".jl",
   "mimetype": "application/julia",
   "name": "julia",
   "version": "1.4.1"
  }
 },
 "nbformat": 4,
 "nbformat_minor": 2
}
